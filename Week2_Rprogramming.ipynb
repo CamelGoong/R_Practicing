{
  "nbformat": 4,
  "nbformat_minor": 0,
  "metadata": {
    "colab": {
      "name": "Week2_Rprogramming.ipynb",
      "provenance": [],
      "authorship_tag": "ABX9TyMXe7kPm0NFV/5BhLA4fQ8n",
      "include_colab_link": true
    },
    "kernelspec": {
      "name": "ir",
      "display_name": "R"
    },
    "language_info": {
      "name": "R"
    },
    "accelerator": "GPU"
  },
  "cells": [
    {
      "cell_type": "markdown",
      "metadata": {
        "id": "view-in-github",
        "colab_type": "text"
      },
      "source": [
        "<a href=\"https://colab.research.google.com/github/CamelGoong/R_Practicing/blob/main/Week2_Rprogramming.ipynb\" target=\"_parent\"><img src=\"https://colab.research.google.com/assets/colab-badge.svg\" alt=\"Open In Colab\"/></a>"
      ]
    },
    {
      "cell_type": "markdown",
      "source": [
        "2-1 벡터 및 행렬 생성 "
      ],
      "metadata": {
        "id": "tnsOWpuTBynA"
      }
    },
    {
      "cell_type": "code",
      "source": [
        "x<-c(1,3,5,7,9)"
      ],
      "metadata": {
        "id": "JetBm541yH7c"
      },
      "execution_count": null,
      "outputs": []
    },
    {
      "cell_type": "code",
      "source": [
        "x[3] # R언어는 인덱스가 1부터 시작함."
      ],
      "metadata": {
        "colab": {
          "base_uri": "https://localhost:8080/",
          "height": 30
        },
        "id": "qvX318CDzzlX",
        "outputId": "940cbdc1-e2a2-46eb-a5ef-01ab526609ec"
      },
      "execution_count": null,
      "outputs": [
        {
          "output_type": "display_data",
          "data": {
            "text/plain": [
              "[1] 5"
            ],
            "text/latex": "5",
            "text/markdown": "5",
            "text/html": [
              "5"
            ]
          },
          "metadata": {}
        }
      ]
    },
    {
      "cell_type": "code",
      "source": [
        "x[-1] # 첫번째 원소를 삭제. 뒤에서 첫번째 원소를 인덱싱해오라는 의미가 아님."
      ],
      "metadata": {
        "colab": {
          "base_uri": "https://localhost:8080/",
          "height": 30
        },
        "id": "iO9dpXk1z1nJ",
        "outputId": "e5c4d275-8585-4bfb-f3ac-7dcbc570e67d"
      },
      "execution_count": null,
      "outputs": [
        {
          "output_type": "display_data",
          "data": {
            "text/plain": [
              "[1] 3 5 7 9"
            ],
            "text/latex": "\\begin{enumerate*}\n\\item 3\n\\item 5\n\\item 7\n\\item 9\n\\end{enumerate*}\n",
            "text/markdown": "1. 3\n2. 5\n3. 7\n4. 9\n\n\n",
            "text/html": [
              "<style>\n",
              ".list-inline {list-style: none; margin:0; padding: 0}\n",
              ".list-inline>li {display: inline-block}\n",
              ".list-inline>li:not(:last-child)::after {content: \"\\00b7\"; padding: 0 .5ex}\n",
              "</style>\n",
              "<ol class=list-inline><li>3</li><li>5</li><li>7</li><li>9</li></ol>\n"
            ]
          },
          "metadata": {}
        }
      ]
    },
    {
      "cell_type": "code",
      "source": [
        "x1<-x[-c(1,2)]\n",
        "x1"
      ],
      "metadata": {
        "colab": {
          "base_uri": "https://localhost:8080/",
          "height": 30
        },
        "id": "ko6LQBsy02xH",
        "outputId": "8c7dbfad-2403-43d6-90b8-596b08e4d662"
      },
      "execution_count": null,
      "outputs": [
        {
          "output_type": "display_data",
          "data": {
            "text/plain": [
              "[1] 5 7 9"
            ],
            "text/latex": "\\begin{enumerate*}\n\\item 5\n\\item 7\n\\item 9\n\\end{enumerate*}\n",
            "text/markdown": "1. 5\n2. 7\n3. 9\n\n\n",
            "text/html": [
              "<style>\n",
              ".list-inline {list-style: none; margin:0; padding: 0}\n",
              ".list-inline>li {display: inline-block}\n",
              ".list-inline>li:not(:last-child)::after {content: \"\\00b7\"; padding: 0 .5ex}\n",
              "</style>\n",
              "<ol class=list-inline><li>5</li><li>7</li><li>9</li></ol>\n"
            ]
          },
          "metadata": {}
        }
      ]
    },
    {
      "cell_type": "code",
      "source": [
        "x2<-x[-c(1:3)] # 첫번째부터 세번째값까지 삭제 / c[1:3]이 아님.\n",
        "x2"
      ],
      "metadata": {
        "colab": {
          "base_uri": "https://localhost:8080/",
          "height": 30
        },
        "id": "OwQWaB0207L8",
        "outputId": "dcc9e4fe-8271-4d2a-b2d6-d084802a1160"
      },
      "execution_count": null,
      "outputs": [
        {
          "output_type": "display_data",
          "data": {
            "text/plain": [
              "[1] 7 9"
            ],
            "text/latex": "\\begin{enumerate*}\n\\item 7\n\\item 9\n\\end{enumerate*}\n",
            "text/markdown": "1. 7\n2. 9\n\n\n",
            "text/html": [
              "<style>\n",
              ".list-inline {list-style: none; margin:0; padding: 0}\n",
              ".list-inline>li {display: inline-block}\n",
              ".list-inline>li:not(:last-child)::after {content: \"\\00b7\"; padding: 0 .5ex}\n",
              "</style>\n",
              "<ol class=list-inline><li>7</li><li>9</li></ol>\n"
            ]
          },
          "metadata": {}
        }
      ]
    },
    {
      "cell_type": "markdown",
      "source": [
        "벡터 생성(seq 함수 사용)"
      ],
      "metadata": {
        "id": "YdgLQJ011cF7"
      }
    },
    {
      "cell_type": "code",
      "source": [
        "y1<-seq(0,10, length = 20) # 0~10 사이의 벡터를 20개 생성\n",
        "y1"
      ],
      "metadata": {
        "colab": {
          "base_uri": "https://localhost:8080/",
          "height": 30
        },
        "id": "74MiZ3Ow1Uht",
        "outputId": "bec6e015-91d8-4382-b95e-9ad3a4a02e41"
      },
      "execution_count": null,
      "outputs": [
        {
          "output_type": "display_data",
          "data": {
            "text/plain": [
              " [1]  0.0000000  0.5263158  1.0526316  1.5789474  2.1052632  2.6315789\n",
              " [7]  3.1578947  3.6842105  4.2105263  4.7368421  5.2631579  5.7894737\n",
              "[13]  6.3157895  6.8421053  7.3684211  7.8947368  8.4210526  8.9473684\n",
              "[19]  9.4736842 10.0000000"
            ],
            "text/latex": "\\begin{enumerate*}\n\\item 0\n\\item 0.526315789473684\n\\item 1.05263157894737\n\\item 1.57894736842105\n\\item 2.10526315789474\n\\item 2.63157894736842\n\\item 3.15789473684211\n\\item 3.68421052631579\n\\item 4.21052631578947\n\\item 4.73684210526316\n\\item 5.26315789473684\n\\item 5.78947368421053\n\\item 6.31578947368421\n\\item 6.84210526315789\n\\item 7.36842105263158\n\\item 7.89473684210526\n\\item 8.42105263157895\n\\item 8.94736842105263\n\\item 9.47368421052632\n\\item 10\n\\end{enumerate*}\n",
            "text/markdown": "1. 0\n2. 0.526315789473684\n3. 1.05263157894737\n4. 1.57894736842105\n5. 2.10526315789474\n6. 2.63157894736842\n7. 3.15789473684211\n8. 3.68421052631579\n9. 4.21052631578947\n10. 4.73684210526316\n11. 5.26315789473684\n12. 5.78947368421053\n13. 6.31578947368421\n14. 6.84210526315789\n15. 7.36842105263158\n16. 7.89473684210526\n17. 8.42105263157895\n18. 8.94736842105263\n19. 9.47368421052632\n20. 10\n\n\n",
            "text/html": [
              "<style>\n",
              ".list-inline {list-style: none; margin:0; padding: 0}\n",
              ".list-inline>li {display: inline-block}\n",
              ".list-inline>li:not(:last-child)::after {content: \"\\00b7\"; padding: 0 .5ex}\n",
              "</style>\n",
              "<ol class=list-inline><li>0</li><li>0.526315789473684</li><li>1.05263157894737</li><li>1.57894736842105</li><li>2.10526315789474</li><li>2.63157894736842</li><li>3.15789473684211</li><li>3.68421052631579</li><li>4.21052631578947</li><li>4.73684210526316</li><li>5.26315789473684</li><li>5.78947368421053</li><li>6.31578947368421</li><li>6.84210526315789</li><li>7.36842105263158</li><li>7.89473684210526</li><li>8.42105263157895</li><li>8.94736842105263</li><li>9.47368421052632</li><li>10</li></ol>\n"
            ]
          },
          "metadata": {}
        }
      ]
    },
    {
      "cell_type": "code",
      "source": [
        "y2<-seq(0,10, by = 0.5) # 0.5 간격으로 생성\n",
        "y2"
      ],
      "metadata": {
        "colab": {
          "base_uri": "https://localhost:8080/",
          "height": 30
        },
        "id": "gUklag7J2J1J",
        "outputId": "696b41ad-9bc0-417e-89e1-b4c5e8a4e924"
      },
      "execution_count": null,
      "outputs": [
        {
          "output_type": "display_data",
          "data": {
            "text/plain": [
              " [1]  0.0  0.5  1.0  1.5  2.0  2.5  3.0  3.5  4.0  4.5  5.0  5.5  6.0  6.5  7.0\n",
              "[16]  7.5  8.0  8.5  9.0  9.5 10.0"
            ],
            "text/latex": "\\begin{enumerate*}\n\\item 0\n\\item 0.5\n\\item 1\n\\item 1.5\n\\item 2\n\\item 2.5\n\\item 3\n\\item 3.5\n\\item 4\n\\item 4.5\n\\item 5\n\\item 5.5\n\\item 6\n\\item 6.5\n\\item 7\n\\item 7.5\n\\item 8\n\\item 8.5\n\\item 9\n\\item 9.5\n\\item 10\n\\end{enumerate*}\n",
            "text/markdown": "1. 0\n2. 0.5\n3. 1\n4. 1.5\n5. 2\n6. 2.5\n7. 3\n8. 3.5\n9. 4\n10. 4.5\n11. 5\n12. 5.5\n13. 6\n14. 6.5\n15. 7\n16. 7.5\n17. 8\n18. 8.5\n19. 9\n20. 9.5\n21. 10\n\n\n",
            "text/html": [
              "<style>\n",
              ".list-inline {list-style: none; margin:0; padding: 0}\n",
              ".list-inline>li {display: inline-block}\n",
              ".list-inline>li:not(:last-child)::after {content: \"\\00b7\"; padding: 0 .5ex}\n",
              "</style>\n",
              "<ol class=list-inline><li>0</li><li>0.5</li><li>1</li><li>1.5</li><li>2</li><li>2.5</li><li>3</li><li>3.5</li><li>4</li><li>4.5</li><li>5</li><li>5.5</li><li>6</li><li>6.5</li><li>7</li><li>7.5</li><li>8</li><li>8.5</li><li>9</li><li>9.5</li><li>10</li></ol>\n"
            ]
          },
          "metadata": {}
        }
      ]
    },
    {
      "cell_type": "markdown",
      "source": [
        "벡터(rep 함수 사용)"
      ],
      "metadata": {
        "id": "t4RGWs7V2You"
      }
    },
    {
      "cell_type": "code",
      "source": [
        "z1<-rep(1:4, 2) # 1~4까지 2번 반복\n",
        "z1"
      ],
      "metadata": {
        "colab": {
          "base_uri": "https://localhost:8080/",
          "height": 30
        },
        "id": "GUQA5q0l2Rhd",
        "outputId": "e0f0903b-5f2d-40fe-9690-049b38dfed0c"
      },
      "execution_count": null,
      "outputs": [
        {
          "output_type": "display_data",
          "data": {
            "text/plain": [
              "[1] 1 2 3 4 1 2 3 4"
            ],
            "text/latex": "\\begin{enumerate*}\n\\item 1\n\\item 2\n\\item 3\n\\item 4\n\\item 1\n\\item 2\n\\item 3\n\\item 4\n\\end{enumerate*}\n",
            "text/markdown": "1. 1\n2. 2\n3. 3\n4. 4\n5. 1\n6. 2\n7. 3\n8. 4\n\n\n",
            "text/html": [
              "<style>\n",
              ".list-inline {list-style: none; margin:0; padding: 0}\n",
              ".list-inline>li {display: inline-block}\n",
              ".list-inline>li:not(:last-child)::after {content: \"\\00b7\"; padding: 0 .5ex}\n",
              "</style>\n",
              "<ol class=list-inline><li>1</li><li>2</li><li>3</li><li>4</li><li>1</li><li>2</li><li>3</li><li>4</li></ol>\n"
            ]
          },
          "metadata": {}
        }
      ]
    },
    {
      "cell_type": "code",
      "source": [
        "z2<-rep(1:2, 5) # 1~2까지 5번 반복\n",
        "z2"
      ],
      "metadata": {
        "colab": {
          "base_uri": "https://localhost:8080/",
          "height": 30
        },
        "id": "xrhY9vjC2poj",
        "outputId": "afd142da-ffa3-4977-d18c-8177d704a8ef"
      },
      "execution_count": null,
      "outputs": [
        {
          "output_type": "display_data",
          "data": {
            "text/plain": [
              " [1] 1 2 1 2 1 2 1 2 1 2"
            ],
            "text/latex": "\\begin{enumerate*}\n\\item 1\n\\item 2\n\\item 1\n\\item 2\n\\item 1\n\\item 2\n\\item 1\n\\item 2\n\\item 1\n\\item 2\n\\end{enumerate*}\n",
            "text/markdown": "1. 1\n2. 2\n3. 1\n4. 2\n5. 1\n6. 2\n7. 1\n8. 2\n9. 1\n10. 2\n\n\n",
            "text/html": [
              "<style>\n",
              ".list-inline {list-style: none; margin:0; padding: 0}\n",
              ".list-inline>li {display: inline-block}\n",
              ".list-inline>li:not(:last-child)::after {content: \"\\00b7\"; padding: 0 .5ex}\n",
              "</style>\n",
              "<ol class=list-inline><li>1</li><li>2</li><li>1</li><li>2</li><li>1</li><li>2</li><li>1</li><li>2</li><li>1</li><li>2</li></ol>\n"
            ]
          },
          "metadata": {}
        }
      ]
    },
    {
      "cell_type": "markdown",
      "source": [
        "벡터 결합(행과 열을 기준)"
      ],
      "metadata": {
        "id": "KY7pxdRj4Ntn"
      }
    },
    {
      "cell_type": "code",
      "source": [
        "# cbind: column bind(열 기준으로 결합)\n",
        "\n",
        "c1<-c(2, 4, 6, 8, 10)\n",
        "c2<-cbind(x, c1)\n",
        "c2"
      ],
      "metadata": {
        "colab": {
          "base_uri": "https://localhost:8080/",
          "height": 222
        },
        "id": "6ZaDLIMx20-K",
        "outputId": "85daf45d-e15a-443d-d9a3-3d4887254ffa"
      },
      "execution_count": null,
      "outputs": [
        {
          "output_type": "display_data",
          "data": {
            "text/plain": [
              "     x c1\n",
              "[1,] 1  2\n",
              "[2,] 3  4\n",
              "[3,] 5  6\n",
              "[4,] 7  8\n",
              "[5,] 9 10"
            ],
            "text/latex": "A matrix: 5 × 2 of type dbl\n\\begin{tabular}{ll}\n x & c1\\\\\n\\hline\n\t 1 &  2\\\\\n\t 3 &  4\\\\\n\t 5 &  6\\\\\n\t 7 &  8\\\\\n\t 9 & 10\\\\\n\\end{tabular}\n",
            "text/markdown": "\nA matrix: 5 × 2 of type dbl\n\n| x | c1 |\n|---|---|\n| 1 |  2 |\n| 3 |  4 |\n| 5 |  6 |\n| 7 |  8 |\n| 9 | 10 |\n\n",
            "text/html": [
              "<table class=\"dataframe\">\n",
              "<caption>A matrix: 5 × 2 of type dbl</caption>\n",
              "<thead>\n",
              "\t<tr><th scope=col>x</th><th scope=col>c1</th></tr>\n",
              "</thead>\n",
              "<tbody>\n",
              "\t<tr><td>1</td><td> 2</td></tr>\n",
              "\t<tr><td>3</td><td> 4</td></tr>\n",
              "\t<tr><td>5</td><td> 6</td></tr>\n",
              "\t<tr><td>7</td><td> 8</td></tr>\n",
              "\t<tr><td>9</td><td>10</td></tr>\n",
              "</tbody>\n",
              "</table>\n"
            ]
          },
          "metadata": {}
        }
      ]
    },
    {
      "cell_type": "code",
      "source": [
        "# rbind: row bind(행으로 결합)\n",
        "c3<-rbind(x,c1)\n",
        "c3"
      ],
      "metadata": {
        "colab": {
          "base_uri": "https://localhost:8080/",
          "height": 84
        },
        "id": "OsPSVIps4cKq",
        "outputId": "d5f3fe98-97f7-4d3d-de03-a3e347b772ba"
      },
      "execution_count": null,
      "outputs": [
        {
          "output_type": "display_data",
          "data": {
            "text/plain": [
              "   [,1] [,2] [,3] [,4] [,5]\n",
              "x  1    3    5    7     9  \n",
              "c1 2    4    6    8    10  "
            ],
            "text/latex": "A matrix: 2 × 5 of type dbl\n\\begin{tabular}{r|lllll}\n\tx & 1 & 3 & 5 & 7 &  9\\\\\n\tc1 & 2 & 4 & 6 & 8 & 10\\\\\n\\end{tabular}\n",
            "text/markdown": "\nA matrix: 2 × 5 of type dbl\n\n| x | 1 | 3 | 5 | 7 |  9 |\n| c1 | 2 | 4 | 6 | 8 | 10 |\n\n",
            "text/html": [
              "<table class=\"dataframe\">\n",
              "<caption>A matrix: 2 × 5 of type dbl</caption>\n",
              "<tbody>\n",
              "\t<tr><th scope=row>x</th><td>1</td><td>3</td><td>5</td><td>7</td><td> 9</td></tr>\n",
              "\t<tr><th scope=row>c1</th><td>2</td><td>4</td><td>6</td><td>8</td><td>10</td></tr>\n",
              "</tbody>\n",
              "</table>\n"
            ]
          },
          "metadata": {}
        }
      ]
    },
    {
      "cell_type": "markdown",
      "source": [
        "벡터이름주기(names)"
      ],
      "metadata": {
        "id": "CNU9Ml1A9JL1"
      }
    },
    {
      "cell_type": "code",
      "source": [
        "gender<-c(0,1)\n",
        "names(gender)<-c(\"female\", \"male\")\n",
        "gender"
      ],
      "metadata": {
        "colab": {
          "base_uri": "https://localhost:8080/",
          "height": 30
        },
        "id": "PI8x0bsY8x51",
        "outputId": "fa25175f-64a2-40db-a00c-f1510ef03b48"
      },
      "execution_count": null,
      "outputs": [
        {
          "output_type": "display_data",
          "data": {
            "text/plain": [
              "female   male \n",
              "     0      1 "
            ],
            "text/latex": "\\begin{description*}\n\\item[female] 0\n\\item[male] 1\n\\end{description*}\n",
            "text/markdown": "female\n:   0male\n:   1\n\n",
            "text/html": [
              "<style>\n",
              ".dl-inline {width: auto; margin:0; padding: 0}\n",
              ".dl-inline>dt, .dl-inline>dd {float: none; width: auto; display: inline-block}\n",
              ".dl-inline>dt::after {content: \":\\0020\"; padding-right: .5ex}\n",
              ".dl-inline>dt:not(:first-of-type) {padding-left: .5ex}\n",
              "</style><dl class=dl-inline><dt>female</dt><dd>0</dd><dt>male</dt><dd>1</dd></dl>\n"
            ]
          },
          "metadata": {}
        }
      ]
    },
    {
      "cell_type": "markdown",
      "source": [
        "범주형 변수 생성(factor 사용)"
      ],
      "metadata": {
        "id": "jaePNQmK9tJ6"
      }
    },
    {
      "cell_type": "code",
      "source": [
        "size<-c(\"S\", \"M\", \"L\", \"XL\")\n",
        "size_factor<-factor(size)\n",
        "size_factor"
      ],
      "metadata": {
        "colab": {
          "base_uri": "https://localhost:8080/",
          "height": 43
        },
        "id": "6-VNsWZu9VYV",
        "outputId": "c8331406-842d-4412-cee2-05090dbabb5a"
      },
      "execution_count": null,
      "outputs": [
        {
          "output_type": "display_data",
          "data": {
            "text/plain": [
              "[1] S  M  L  XL\n",
              "Levels: L M S XL"
            ],
            "text/latex": "\\begin{enumerate*}\n\\item S\n\\item M\n\\item L\n\\item XL\n\\end{enumerate*}\n\n\\emph{Levels}: \\begin{enumerate*}\n\\item 'L'\n\\item 'M'\n\\item 'S'\n\\item 'XL'\n\\end{enumerate*}\n",
            "text/markdown": "1. S\n2. M\n3. L\n4. XL\n\n\n\n**Levels**: 1. 'L'\n2. 'M'\n3. 'S'\n4. 'XL'\n\n\n",
            "text/html": [
              "<style>\n",
              ".list-inline {list-style: none; margin:0; padding: 0}\n",
              ".list-inline>li {display: inline-block}\n",
              ".list-inline>li:not(:last-child)::after {content: \"\\00b7\"; padding: 0 .5ex}\n",
              "</style>\n",
              "<ol class=list-inline><li>S</li><li>M</li><li>L</li><li>XL</li></ol>\n",
              "\n",
              "<details>\n",
              "\t<summary style=display:list-item;cursor:pointer>\n",
              "\t\t<strong>Levels</strong>:\n",
              "\t</summary>\n",
              "\t<style>\n",
              "\t.list-inline {list-style: none; margin:0; padding: 0}\n",
              "\t.list-inline>li {display: inline-block}\n",
              "\t.list-inline>li:not(:last-child)::after {content: \"\\00b7\"; padding: 0 .5ex}\n",
              "\t</style>\n",
              "\t<ol class=list-inline><li>'L'</li><li>'M'</li><li>'S'</li><li>'XL'</li></ol>\n",
              "</details>"
            ]
          },
          "metadata": {}
        }
      ]
    },
    {
      "cell_type": "code",
      "source": [
        "is.factor(size_factor)"
      ],
      "metadata": {
        "colab": {
          "base_uri": "https://localhost:8080/",
          "height": 30
        },
        "id": "Mgo-lAH7-FbE",
        "outputId": "8e9bb4c6-5af5-45a4-93c2-68a6157e7be5"
      },
      "execution_count": null,
      "outputs": [
        {
          "output_type": "display_data",
          "data": {
            "text/plain": [
              "[1] TRUE"
            ],
            "text/latex": "TRUE",
            "text/markdown": "TRUE",
            "text/html": [
              "TRUE"
            ]
          },
          "metadata": {}
        }
      ]
    },
    {
      "cell_type": "markdown",
      "source": [
        "범주형 변수 생성(factor 사용) - 순서를 정의한 factor 생성 "
      ],
      "metadata": {
        "id": "yX3eKekN-UyR"
      }
    },
    {
      "cell_type": "code",
      "source": [
        "size_factor3<-factor(size, ordered = T, levels = c(\"S\", \"M\", \"L\", \"XL\"))\n",
        "size_factor3"
      ],
      "metadata": {
        "colab": {
          "base_uri": "https://localhost:8080/",
          "height": 43
        },
        "id": "rk-HOdDj-H7h",
        "outputId": "79e1628d-07d4-4125-bd30-18aacb2b598b"
      },
      "execution_count": null,
      "outputs": [
        {
          "output_type": "display_data",
          "data": {
            "text/plain": [
              "[1] S  M  L  XL\n",
              "Levels: S < M < L < XL"
            ],
            "text/latex": "\\begin{enumerate*}\n\\item S\n\\item M\n\\item L\n\\item XL\n\\end{enumerate*}\n\n\\emph{Levels}: \\begin{enumerate*}\n\\item 'S'\n\\item 'M'\n\\item 'L'\n\\item 'XL'\n\\end{enumerate*}\n",
            "text/markdown": "1. S\n2. M\n3. L\n4. XL\n\n\n\n**Levels**: 1. 'S'\n2. 'M'\n3. 'L'\n4. 'XL'\n\n\n",
            "text/html": [
              "<style>\n",
              ".list-inline {list-style: none; margin:0; padding: 0}\n",
              ".list-inline>li {display: inline-block}\n",
              ".list-inline>li:not(:last-child)::after {content: \"\\00b7\"; padding: 0 .5ex}\n",
              "</style>\n",
              "<ol class=list-inline><li>S</li><li>M</li><li>L</li><li>XL</li></ol>\n",
              "\n",
              "<details>\n",
              "\t<summary style=display:list-item;cursor:pointer>\n",
              "\t\t<strong>Levels</strong>:\n",
              "\t</summary>\n",
              "\t<style>\n",
              "\t.list-inline {list-style: none; margin:0; padding: 0}\n",
              "\t.list-inline>li {display: inline-block}\n",
              "\t.list-inline>li:not(:last-child)::after {content: \"\\00b7\"; padding: 0 .5ex}\n",
              "\t</style>\n",
              "\t<ol class=list-inline><li>'S'</li><li>'M'</li><li>'L'</li><li>'XL'</li></ol>\n",
              "</details>"
            ]
          },
          "metadata": {}
        }
      ]
    },
    {
      "cell_type": "markdown",
      "source": [
        "행렬의 생성(matrix 함수 이용) - 행의 수나 열의 수를 입"
      ],
      "metadata": {
        "id": "PR0CBsIW_m91"
      }
    },
    {
      "cell_type": "code",
      "source": [
        "m1<-matrix(1:10, nrow = 2) # 2개의 컬럼을 생성\n",
        "m1"
      ],
      "metadata": {
        "colab": {
          "base_uri": "https://localhost:8080/",
          "height": 97
        },
        "id": "H5f8rIif-uzg",
        "outputId": "ebbfae19-e9aa-4f55-8e11-b319a052021a"
      },
      "execution_count": null,
      "outputs": [
        {
          "output_type": "display_data",
          "data": {
            "text/plain": [
              "     [,1] [,2] [,3] [,4] [,5]\n",
              "[1,] 1    3    5    7     9  \n",
              "[2,] 2    4    6    8    10  "
            ],
            "text/latex": "A matrix: 2 × 5 of type int\n\\begin{tabular}{lllll}\n\t 1 & 3 & 5 & 7 &  9\\\\\n\t 2 & 4 & 6 & 8 & 10\\\\\n\\end{tabular}\n",
            "text/markdown": "\nA matrix: 2 × 5 of type int\n\n| 1 | 3 | 5 | 7 |  9 |\n| 2 | 4 | 6 | 8 | 10 |\n\n",
            "text/html": [
              "<table class=\"dataframe\">\n",
              "<caption>A matrix: 2 × 5 of type int</caption>\n",
              "<tbody>\n",
              "\t<tr><td>1</td><td>3</td><td>5</td><td>7</td><td> 9</td></tr>\n",
              "\t<tr><td>2</td><td>4</td><td>6</td><td>8</td><td>10</td></tr>\n",
              "</tbody>\n",
              "</table>\n"
            ]
          },
          "metadata": {}
        }
      ]
    },
    {
      "cell_type": "code",
      "source": [
        "m2<-matrix(1:6, ncol = 3) # 3개의 열을 생성\n",
        "m"
      ],
      "metadata": {
        "colab": {
          "base_uri": "https://localhost:8080/",
          "height": 84
        },
        "id": "WqYAh_GG_w7V",
        "outputId": "3081a6b4-c982-4c61-c0d7-0eb530fe0208"
      },
      "execution_count": null,
      "outputs": [
        {
          "output_type": "error",
          "ename": "ERROR",
          "evalue": "ignored",
          "traceback": [
            "Error in eval(expr, envir, enclos): object 'm' not found\nTraceback:\n"
          ]
        }
      ]
    },
    {
      "cell_type": "code",
      "source": [
        "# 원래는 matrix 함수는 1열부터 채우는 것이 default이지만, byrow = T 옵션을 사용해서 1행부터 채우도록 할 수 있음. \n",
        "m3<-matrix(1:6, nrow = 2, byrow = T)\n",
        "m3"
      ],
      "metadata": {
        "id": "1eYc-tTl_3H8"
      },
      "execution_count": null,
      "outputs": []
    },
    {
      "cell_type": "markdown",
      "source": [
        "고차원 행렬(array를 이용하여 생성)"
      ],
      "metadata": {
        "id": "A6ikGxrAAn8a"
      }
    },
    {
      "cell_type": "code",
      "source": [
        "a1<-array(c(1:18), dim = c(3,3,2)) # 여기서는 각각 c를 씌어준 것에 유의 \n",
        "# 3*3행짜리 행렬이 2개가 생기는 것\n",
        "a1"
      ],
      "metadata": {
        "id": "ExDlQJUNAafq"
      },
      "execution_count": null,
      "outputs": []
    },
    {
      "cell_type": "markdown",
      "source": [
        "2-2 벡터와 행렬의 연산 "
      ],
      "metadata": {
        "id": "vcYfBJr_DM1T"
      }
    },
    {
      "cell_type": "markdown",
      "source": [
        "벡터의 연산 "
      ],
      "metadata": {
        "id": "XqNfZH-_D37c"
      }
    },
    {
      "cell_type": "code",
      "source": [
        "# %% 나머지 %/% 몫 | or\n",
        "\n",
        "2^3\n",
        "2**3"
      ],
      "metadata": {
        "id": "kKq11M9fBMLL",
        "colab": {
          "base_uri": "https://localhost:8080/",
          "height": 51
        },
        "outputId": "c44bc4f1-7533-4f88-cfc8-27091cc3cdd7"
      },
      "execution_count": null,
      "outputs": [
        {
          "output_type": "display_data",
          "data": {
            "text/plain": [
              "[1] 8"
            ],
            "text/latex": "8",
            "text/markdown": "8",
            "text/html": [
              "8"
            ]
          },
          "metadata": {}
        },
        {
          "output_type": "display_data",
          "data": {
            "text/plain": [
              "[1] 8"
            ],
            "text/latex": "8",
            "text/markdown": "8",
            "text/html": [
              "8"
            ]
          },
          "metadata": {}
        }
      ]
    },
    {
      "cell_type": "code",
      "source": [
        "7%%5 # 나머지\n",
        "7%/%5 # 몫"
      ],
      "metadata": {
        "colab": {
          "base_uri": "https://localhost:8080/",
          "height": 51
        },
        "id": "L1QHYyLVDsAb",
        "outputId": "4034e422-2706-4478-986e-d5b375609426"
      },
      "execution_count": null,
      "outputs": [
        {
          "output_type": "display_data",
          "data": {
            "text/plain": [
              "[1] 2"
            ],
            "text/latex": "2",
            "text/markdown": "2",
            "text/html": [
              "2"
            ]
          },
          "metadata": {}
        },
        {
          "output_type": "display_data",
          "data": {
            "text/plain": [
              "[1] 1"
            ],
            "text/latex": "1",
            "text/markdown": "1",
            "text/html": [
              "1"
            ]
          },
          "metadata": {}
        }
      ]
    },
    {
      "cell_type": "markdown",
      "source": [
        "# 행렬의 연산 "
      ],
      "metadata": {
        "id": "9aFLy0uND5mu"
      }
    },
    {
      "cell_type": "code",
      "source": [
        "# %*% 행렬 간의 곱\n",
        "# t(A) 전치행렬\n",
        "# solve(A,b) 방정식을 풀때 "
      ],
      "metadata": {
        "id": "32bwa0PhDzQD"
      },
      "execution_count": null,
      "outputs": []
    },
    {
      "cell_type": "code",
      "source": [
        "m1<-matrix(1:10, nrow = 2)\n",
        "m1"
      ],
      "metadata": {
        "colab": {
          "base_uri": "https://localhost:8080/",
          "height": 113
        },
        "id": "9-bHZbUxEOCx",
        "outputId": "4650ad7b-ae96-4d3b-9476-abba32e234cc"
      },
      "execution_count": null,
      "outputs": [
        {
          "output_type": "display_data",
          "data": {
            "text/plain": [
              "     [,1] [,2] [,3] [,4] [,5]\n",
              "[1,] 1    3    5    7     9  \n",
              "[2,] 2    4    6    8    10  "
            ],
            "text/latex": "A matrix: 2 × 5 of type int\n\\begin{tabular}{lllll}\n\t 1 & 3 & 5 & 7 &  9\\\\\n\t 2 & 4 & 6 & 8 & 10\\\\\n\\end{tabular}\n",
            "text/markdown": "\nA matrix: 2 × 5 of type int\n\n| 1 | 3 | 5 | 7 |  9 |\n| 2 | 4 | 6 | 8 | 10 |\n\n",
            "text/html": [
              "<table class=\"dataframe\">\n",
              "<caption>A matrix: 2 × 5 of type int</caption>\n",
              "<tbody>\n",
              "\t<tr><td>1</td><td>3</td><td>5</td><td>7</td><td> 9</td></tr>\n",
              "\t<tr><td>2</td><td>4</td><td>6</td><td>8</td><td>10</td></tr>\n",
              "</tbody>\n",
              "</table>\n"
            ]
          },
          "metadata": {}
        }
      ]
    },
    {
      "cell_type": "code",
      "source": [
        "# 행렬의 차원 알아보기 dim\n",
        "dim(m1) # 2행 5열"
      ],
      "metadata": {
        "colab": {
          "base_uri": "https://localhost:8080/",
          "height": 34
        },
        "id": "SqFhujMzEUwy",
        "outputId": "fa9363bf-e018-4028-8c99-0410d81c8c24"
      },
      "execution_count": null,
      "outputs": [
        {
          "output_type": "display_data",
          "data": {
            "text/plain": [
              "[1] 2 5"
            ],
            "text/latex": "\\begin{enumerate*}\n\\item 2\n\\item 5\n\\end{enumerate*}\n",
            "text/markdown": "1. 2\n2. 5\n\n\n",
            "text/html": [
              "<style>\n",
              ".list-inline {list-style: none; margin:0; padding: 0}\n",
              ".list-inline>li {display: inline-block}\n",
              ".list-inline>li:not(:last-child)::after {content: \"\\00b7\"; padding: 0 .5ex}\n",
              "</style>\n",
              "<ol class=list-inline><li>2</li><li>5</li></ol>\n"
            ]
          },
          "metadata": {}
        }
      ]
    },
    {
      "cell_type": "code",
      "source": [
        "# 전치행렬(transpose) 구하기\n",
        "tm2<-t(m2)\n",
        "tm2"
      ],
      "metadata": {
        "colab": {
          "base_uri": "https://localhost:8080/",
          "height": 195
        },
        "id": "jZW9UxvMEXbe",
        "outputId": "e7686111-d8bd-4a37-f89c-f8e9a2672ed1"
      },
      "execution_count": null,
      "outputs": [
        {
          "output_type": "display_data",
          "data": {
            "text/plain": [
              "     [,1] [,2]\n",
              "[1,] 1    2   \n",
              "[2,] 3    4   \n",
              "[3,] 5    6   "
            ],
            "text/latex": "A matrix: 3 × 2 of type int\n\\begin{tabular}{ll}\n\t 1 & 2\\\\\n\t 3 & 4\\\\\n\t 5 & 6\\\\\n\\end{tabular}\n",
            "text/markdown": "\nA matrix: 3 × 2 of type int\n\n| 1 | 2 |\n| 3 | 4 |\n| 5 | 6 |\n\n",
            "text/html": [
              "<table class=\"dataframe\">\n",
              "<caption>A matrix: 3 × 2 of type int</caption>\n",
              "<tbody>\n",
              "\t<tr><td>1</td><td>2</td></tr>\n",
              "\t<tr><td>3</td><td>4</td></tr>\n",
              "\t<tr><td>5</td><td>6</td></tr>\n",
              "</tbody>\n",
              "</table>\n"
            ]
          },
          "metadata": {}
        }
      ]
    },
    {
      "cell_type": "code",
      "source": [
        "# determinant 구하기(det) / 역행렬을 구하는데에도 사용.\n",
        "\n",
        "d1<-matrix(1:4, nrow = 2, byrow = T)\n",
        "d1\n",
        "det(d1)\n",
        "\n",
        "# 2*2말고 고차원 행렬에 대해서도 det를 간단하게 구할 수 있음."
      ],
      "metadata": {
        "colab": {
          "base_uri": "https://localhost:8080/",
          "height": 181
        },
        "id": "t9_4WwhwEfX4",
        "outputId": "dc781ab1-b98b-468a-cfc2-5a8e685b93e1"
      },
      "execution_count": null,
      "outputs": [
        {
          "output_type": "display_data",
          "data": {
            "text/plain": [
              "     [,1] [,2]\n",
              "[1,] 1    2   \n",
              "[2,] 3    4   "
            ],
            "text/latex": "A matrix: 2 × 2 of type int\n\\begin{tabular}{ll}\n\t 1 & 2\\\\\n\t 3 & 4\\\\\n\\end{tabular}\n",
            "text/markdown": "\nA matrix: 2 × 2 of type int\n\n| 1 | 2 |\n| 3 | 4 |\n\n",
            "text/html": [
              "<table class=\"dataframe\">\n",
              "<caption>A matrix: 2 × 2 of type int</caption>\n",
              "<tbody>\n",
              "\t<tr><td>1</td><td>2</td></tr>\n",
              "\t<tr><td>3</td><td>4</td></tr>\n",
              "</tbody>\n",
              "</table>\n"
            ]
          },
          "metadata": {}
        },
        {
          "output_type": "display_data",
          "data": {
            "text/plain": [
              "[1] -2"
            ],
            "text/latex": "-2",
            "text/markdown": "-2",
            "text/html": [
              "-2"
            ]
          },
          "metadata": {}
        }
      ]
    },
    {
      "cell_type": "code",
      "source": [
        "# 역행렬(inverse) 구하기(solve)\n",
        "d1_inv<-solve(d1)\n",
        "d1_inv"
      ],
      "metadata": {
        "colab": {
          "base_uri": "https://localhost:8080/",
          "height": 130
        },
        "id": "i-4zVbPlExN1",
        "outputId": "349a276a-285c-4f10-e104-6e0a3dac93bc"
      },
      "execution_count": null,
      "outputs": [
        {
          "output_type": "display_data",
          "data": {
            "text/plain": [
              "     [,1] [,2]\n",
              "[1,] -2.0  1.0\n",
              "[2,]  1.5 -0.5"
            ],
            "text/latex": "A matrix: 2 × 2 of type dbl\n\\begin{tabular}{ll}\n\t -2.0 &  1.0\\\\\n\t  1.5 & -0.5\\\\\n\\end{tabular}\n",
            "text/markdown": "\nA matrix: 2 × 2 of type dbl\n\n| -2.0 |  1.0 |\n|  1.5 | -0.5 |\n\n",
            "text/html": [
              "<table class=\"dataframe\">\n",
              "<caption>A matrix: 2 × 2 of type dbl</caption>\n",
              "<tbody>\n",
              "\t<tr><td>-2.0</td><td> 1.0</td></tr>\n",
              "\t<tr><td> 1.5</td><td>-0.5</td></tr>\n",
              "</tbody>\n",
              "</table>\n"
            ]
          },
          "metadata": {}
        }
      ]
    },
    {
      "cell_type": "code",
      "source": [
        "# d1과 d1_inv를 곱하면 identity matrix가 나오는지 확인하기\n",
        "d1 %*% d1_inv"
      ],
      "metadata": {
        "colab": {
          "base_uri": "https://localhost:8080/",
          "height": 113
        },
        "id": "QQ_d4Yb9FHlt",
        "outputId": "10addd07-b98c-48c6-9826-cc51b40d7bfa"
      },
      "execution_count": null,
      "outputs": [
        {
          "output_type": "display_data",
          "data": {
            "text/plain": [
              "     [,1]         [,2]\n",
              "[1,] 1.000000e+00 0   \n",
              "[2,] 8.881784e-16 1   "
            ],
            "text/latex": "A matrix: 2 × 2 of type dbl\n\\begin{tabular}{ll}\n\t 1.000000e+00 & 0\\\\\n\t 8.881784e-16 & 1\\\\\n\\end{tabular}\n",
            "text/markdown": "\nA matrix: 2 × 2 of type dbl\n\n| 1.000000e+00 | 0 |\n| 8.881784e-16 | 1 |\n\n",
            "text/html": [
              "<table class=\"dataframe\">\n",
              "<caption>A matrix: 2 × 2 of type dbl</caption>\n",
              "<tbody>\n",
              "\t<tr><td>1.000000e+00</td><td>0</td></tr>\n",
              "\t<tr><td>8.881784e-16</td><td>1</td></tr>\n",
              "</tbody>\n",
              "</table>\n"
            ]
          },
          "metadata": {}
        }
      ]
    },
    {
      "cell_type": "code",
      "source": [
        "# 역행렬을 이용한 방정식 해 구하기(solve)\n",
        "a<-matrix(c(3,1,2,1), nrow = 2, ncol = 2)\n",
        "b<-matrix(c(8,2), nrow = 2, ncol = 1)\n",
        "a\n",
        "b"
      ],
      "metadata": {
        "id": "jkSeN5dHFOYw",
        "colab": {
          "base_uri": "https://localhost:8080/",
          "height": 310
        },
        "outputId": "1073ea6b-6a83-482b-ef38-f1d87c5ec535"
      },
      "execution_count": null,
      "outputs": [
        {
          "output_type": "display_data",
          "data": {
            "text/plain": [
              "     [,1] [,2]\n",
              "[1,] 3    2   \n",
              "[2,] 1    1   "
            ],
            "text/latex": "A matrix: 2 × 2 of type dbl\n\\begin{tabular}{ll}\n\t 3 & 2\\\\\n\t 1 & 1\\\\\n\\end{tabular}\n",
            "text/markdown": "\nA matrix: 2 × 2 of type dbl\n\n| 3 | 2 |\n| 1 | 1 |\n\n",
            "text/html": [
              "<table class=\"dataframe\">\n",
              "<caption>A matrix: 2 × 2 of type dbl</caption>\n",
              "<tbody>\n",
              "\t<tr><td>3</td><td>2</td></tr>\n",
              "\t<tr><td>1</td><td>1</td></tr>\n",
              "</tbody>\n",
              "</table>\n"
            ]
          },
          "metadata": {}
        },
        {
          "output_type": "display_data",
          "data": {
            "text/plain": [
              "     [,1]\n",
              "[1,] 8   \n",
              "[2,] 2   "
            ],
            "text/latex": "A matrix: 2 × 1 of type dbl\n\\begin{tabular}{l}\n\t 8\\\\\n\t 2\\\\\n\\end{tabular}\n",
            "text/markdown": "\nA matrix: 2 × 1 of type dbl\n\n| 8 |\n| 2 |\n\n",
            "text/html": [
              "<table class=\"dataframe\">\n",
              "<caption>A matrix: 2 × 1 of type dbl</caption>\n",
              "<tbody>\n",
              "\t<tr><td>8</td></tr>\n",
              "\t<tr><td>2</td></tr>\n",
              "</tbody>\n",
              "</table>\n"
            ]
          },
          "metadata": {}
        }
      ]
    },
    {
      "cell_type": "code",
      "source": [
        "solve(a, b) # x, y에 대한 해 구하기"
      ],
      "metadata": {
        "colab": {
          "base_uri": "https://localhost:8080/",
          "height": 164
        },
        "id": "w1G3quEVGAGU",
        "outputId": "59df0f8d-9ead-46a0-f1f9-1f02c12c4652"
      },
      "execution_count": null,
      "outputs": [
        {
          "output_type": "display_data",
          "data": {
            "text/plain": [
              "     [,1]\n",
              "[1,]  4  \n",
              "[2,] -2  "
            ],
            "text/latex": "A matrix: 2 × 1 of type dbl\n\\begin{tabular}{l}\n\t  4\\\\\n\t -2\\\\\n\\end{tabular}\n",
            "text/markdown": "\nA matrix: 2 × 1 of type dbl\n\n|  4 |\n| -2 |\n\n",
            "text/html": [
              "<table class=\"dataframe\">\n",
              "<caption>A matrix: 2 × 1 of type dbl</caption>\n",
              "<tbody>\n",
              "\t<tr><td> 4</td></tr>\n",
              "\t<tr><td>-2</td></tr>\n",
              "</tbody>\n",
              "</table>\n"
            ]
          },
          "metadata": {}
        }
      ]
    },
    {
      "cell_type": "code",
      "source": [
        "# 도움말 보기\n",
        "help(solve)"
      ],
      "metadata": {
        "id": "UDL0WJDgGDJj"
      },
      "execution_count": null,
      "outputs": []
    },
    {
      "cell_type": "markdown",
      "source": [
        "고유치(eigenvalue)와 고유벡터(eigenvector)"
      ],
      "metadata": {
        "id": "oTWOCOnbGM4W"
      }
    },
    {
      "cell_type": "code",
      "source": [
        "# xTx를 통계에서는 공분산행렬이라고 함. -> 이를 통해, 통계에서는 다변량분석을 하기도 함.\n",
        "# 공분산행렬의 특성을 파악하기 위해서 구하는 것이 eigenvalue와 eigenvector임.\n",
        "\n",
        "e1<-eigen(t(x) %*% x)\n",
        "e1"
      ],
      "metadata": {
        "colab": {
          "base_uri": "https://localhost:8080/",
          "height": 135
        },
        "id": "CeGPqIZ0GJ9F",
        "outputId": "8bbe9e11-a4a4-4650-e67f-563efab7d505"
      },
      "execution_count": null,
      "outputs": [
        {
          "output_type": "display_data",
          "data": {
            "text/plain": [
              "eigen() decomposition\n",
              "$values\n",
              "[1] 165\n",
              "\n",
              "$vectors\n",
              "     [,1]\n",
              "[1,]    1\n"
            ]
          },
          "metadata": {}
        }
      ]
    },
    {
      "cell_type": "markdown",
      "source": [
        "2-3 간단한 함수생성 및 루프 "
      ],
      "metadata": {
        "id": "kNp5lQSTHhvF"
      }
    },
    {
      "cell_type": "code",
      "source": [
        "# square 함수 만들기\n",
        "\n",
        "# input값이 x이고 return값이 x*x인 square라는 이름의 function 생성\n",
        "\n",
        "square<-function(x){\n",
        "  return(x*x)\n",
        "} "
      ],
      "metadata": {
        "id": "f1MDW8d5GtOi"
      },
      "execution_count": 69,
      "outputs": []
    },
    {
      "cell_type": "code",
      "source": [
        "square(9)"
      ],
      "metadata": {
        "colab": {
          "base_uri": "https://localhost:8080/",
          "height": 34
        },
        "id": "oST5lT2tIWgt",
        "outputId": "533ada64-8a14-4d16-d84e-a85d8e5dbaea"
      },
      "execution_count": 70,
      "outputs": [
        {
          "output_type": "display_data",
          "data": {
            "text/plain": [
              "[1] 81"
            ],
            "text/latex": "81",
            "text/markdown": "81",
            "text/html": [
              "81"
            ]
          },
          "metadata": {}
        }
      ]
    },
    {
      "cell_type": "code",
      "source": [
        "square(1:3)"
      ],
      "metadata": {
        "colab": {
          "base_uri": "https://localhost:8080/",
          "height": 34
        },
        "id": "KMCMWEvBIcFR",
        "outputId": "9beca7ce-90e6-468f-9671-853c1df33c23"
      },
      "execution_count": 71,
      "outputs": [
        {
          "output_type": "display_data",
          "data": {
            "text/plain": [
              "[1] 1 4 9"
            ],
            "text/latex": "\\begin{enumerate*}\n\\item 1\n\\item 4\n\\item 9\n\\end{enumerate*}\n",
            "text/markdown": "1. 1\n2. 4\n3. 9\n\n\n",
            "text/html": [
              "<style>\n",
              ".list-inline {list-style: none; margin:0; padding: 0}\n",
              ".list-inline>li {display: inline-block}\n",
              ".list-inline>li:not(:last-child)::after {content: \"\\00b7\"; padding: 0 .5ex}\n",
              "</style>\n",
              "<ol class=list-inline><li>1</li><li>4</li><li>9</li></ol>\n"
            ]
          },
          "metadata": {}
        }
      ]
    },
    {
      "cell_type": "code",
      "source": [
        "# dif function\n",
        "dif <- function(x,y){\n",
        "  return(x-y)\n",
        "}\n",
        "\n",
        "dif(20, 10)"
      ],
      "metadata": {
        "id": "ieXDQy-IIdjV",
        "colab": {
          "base_uri": "https://localhost:8080/",
          "height": 34
        },
        "outputId": "1a0bbcc2-2205-4364-e9d7-2ae3b096fd3f"
      },
      "execution_count": 72,
      "outputs": [
        {
          "output_type": "display_data",
          "data": {
            "text/plain": [
              "[1] 10"
            ],
            "text/latex": "10",
            "text/markdown": "10",
            "text/html": [
              "10"
            ]
          },
          "metadata": {}
        }
      ]
    },
    {
      "cell_type": "code",
      "source": [
        "rootdif<-function(x,y){\n",
        "  return(sqrt(x-y))\n",
        "}\n",
        "\n",
        "rootdif(20,10)"
      ],
      "metadata": {
        "colab": {
          "base_uri": "https://localhost:8080/",
          "height": 34
        },
        "id": "wKfySJWRJQ7R",
        "outputId": "55ab7b53-e018-46bc-92e9-4ae51d7446d5"
      },
      "execution_count": 73,
      "outputs": [
        {
          "output_type": "display_data",
          "data": {
            "text/plain": [
              "[1] 3.162278"
            ],
            "text/latex": "3.16227766016838",
            "text/markdown": "3.16227766016838",
            "text/html": [
              "3.16227766016838"
            ]
          },
          "metadata": {}
        }
      ]
    },
    {
      "cell_type": "code",
      "source": [
        "# 기존함수: round - 소수점 자리를 조정\n",
        "round(5.14846) # 옵션없이하면 그냥 정수가 나옴.\n",
        "round(5.14846, 2) # 소수점 둘째자리까지 표현 "
      ],
      "metadata": {
        "colab": {
          "base_uri": "https://localhost:8080/",
          "height": 51
        },
        "id": "UV0OfFNCJYwP",
        "outputId": "e8b9163a-8faf-45a7-cbc3-e0a1822d9176"
      },
      "execution_count": 74,
      "outputs": [
        {
          "output_type": "display_data",
          "data": {
            "text/plain": [
              "[1] 5"
            ],
            "text/latex": "5",
            "text/markdown": "5",
            "text/html": [
              "5"
            ]
          },
          "metadata": {}
        },
        {
          "output_type": "display_data",
          "data": {
            "text/plain": [
              "[1] 5.15"
            ],
            "text/latex": "5.15",
            "text/markdown": "5.15",
            "text/html": [
              "5.15"
            ]
          },
          "metadata": {}
        }
      ]
    },
    {
      "cell_type": "code",
      "source": [
        "round(rootdif(20, 10))\n",
        "round(rootdif(20, 10), 2)"
      ],
      "metadata": {
        "colab": {
          "base_uri": "https://localhost:8080/",
          "height": 51
        },
        "id": "6A_PO_fdKA4X",
        "outputId": "557530b3-f7e2-4ee6-ac0e-b62d2447750b"
      },
      "execution_count": 77,
      "outputs": [
        {
          "output_type": "display_data",
          "data": {
            "text/plain": [
              "[1] 3"
            ],
            "text/latex": "3",
            "text/markdown": "3",
            "text/html": [
              "3"
            ]
          },
          "metadata": {}
        },
        {
          "output_type": "display_data",
          "data": {
            "text/plain": [
              "[1] 3.16"
            ],
            "text/latex": "3.16",
            "text/markdown": "3.16",
            "text/html": [
              "3.16"
            ]
          },
          "metadata": {}
        }
      ]
    },
    {
      "cell_type": "markdown",
      "source": [
        "루프문(for)"
      ],
      "metadata": {
        "id": "DlnV7zueKLEM"
      }
    },
    {
      "cell_type": "code",
      "source": [
        "# 1~10까지의 수 중에서 3으로 나눈 나머지가 1이 아닌 수를 출력\n",
        "for(i in 1:10){\n",
        "  if(i%%3 == 1){\n",
        "    next() # 다음 숫자로 루프를 돌리는 것. python의 continue랑 같은듯!\n",
        "  }\n",
        "  print(i)\n",
        "}"
      ],
      "metadata": {
        "colab": {
          "base_uri": "https://localhost:8080/"
        },
        "id": "PKLpsYwhKCQE",
        "outputId": "3e68df44-1dd0-4689-f4ef-aa8a6454027a"
      },
      "execution_count": 78,
      "outputs": [
        {
          "output_type": "stream",
          "name": "stdout",
          "text": [
            "[1] 2\n",
            "[1] 3\n",
            "[1] 5\n",
            "[1] 6\n",
            "[1] 8\n",
            "[1] 9\n"
          ]
        }
      ]
    },
    {
      "cell_type": "code",
      "source": [
        "# 1부터 10까지 더해가며 합이 20보다 작을 때까지 출력\n",
        "\n",
        "sum = 0\n",
        "for(i in 1:10){\n",
        "  sum<-sum + i\n",
        "  if(sum >20){\n",
        "    break\n",
        "  }\n",
        "  print(sum)\n",
        "}"
      ],
      "metadata": {
        "colab": {
          "base_uri": "https://localhost:8080/"
        },
        "id": "HHjLIkryKmD5",
        "outputId": "46dda2d6-daf5-4b3c-db53-85e204891320"
      },
      "execution_count": 79,
      "outputs": [
        {
          "output_type": "stream",
          "name": "stdout",
          "text": [
            "[1] 1\n",
            "[1] 3\n",
            "[1] 6\n",
            "[1] 10\n",
            "[1] 15\n"
          ]
        }
      ]
    },
    {
      "cell_type": "markdown",
      "source": [
        "루프문(while) - condition이 있음."
      ],
      "metadata": {
        "id": "ayURctG4LVNZ"
      }
    },
    {
      "cell_type": "code",
      "source": [
        "# 1부터 5까지를 출력\n",
        "\n",
        "y = 0\n",
        "while(y < 5){print(y<-y+1)}"
      ],
      "metadata": {
        "colab": {
          "base_uri": "https://localhost:8080/"
        },
        "id": "w4P6AqgoKtBz",
        "outputId": "bf67a11e-2078-4a23-9330-43995fdcc59c"
      },
      "execution_count": 81,
      "outputs": [
        {
          "output_type": "stream",
          "name": "stdout",
          "text": [
            "[1] 1\n",
            "[1] 2\n",
            "[1] 3\n",
            "[1] 4\n",
            "[1] 5\n"
          ]
        }
      ]
    },
    {
      "cell_type": "code",
      "source": [
        ""
      ],
      "metadata": {
        "id": "x8lqq_LPLoaz"
      },
      "execution_count": null,
      "outputs": []
    }
  ]
}